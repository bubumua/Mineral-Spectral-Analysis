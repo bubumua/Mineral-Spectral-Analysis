{
 "cells": [
  {
   "cell_type": "markdown",
   "source": [
    "## 添加必要库，定义路径"
   ],
   "metadata": {
    "collapsed": false
   },
   "id": "d123923e3247adbd"
  },
  {
   "cell_type": "code",
   "outputs": [],
   "source": [
    "import os\n",
    "import re\n",
    "import csv\n",
    "import matplotlib.pyplot as plt\n",
    "import pandas as pd\n",
    "\n",
    "# 定义数据目录\n",
    "directories = [\n",
    "    \"../data/pimaview/\",\n",
    "    \"../data/test/\",\n",
    "    \"../data/pimaviewcsv/\"\n",
    "    ]"
   ],
   "metadata": {
    "collapsed": true,
    "ExecuteTime": {
     "end_time": "2024-04-18T13:16:03.563052Z",
     "start_time": "2024-04-18T13:16:03.558274Z"
    }
   },
   "id": "initial_id",
   "execution_count": 3
  },
  {
   "cell_type": "code",
   "outputs": [],
   "source": [
    "def get_spectra_vector(lines):\n",
    "    \"\"\"\n",
    "    解析文件内容，获取波长和反射率。\n",
    "\n",
    "    Args:\n",
    "    lines (list) -- 文件内容，每一行是一个字符串，形式为\"波长 反射率\"。\n",
    "\n",
    "    Returns:\n",
    "    wavelength (list) -- 波长列表，每个元素是一个浮点数。\n",
    "    reflectivity (list) -- 反射率列表，每个元素是一个浮点数。\n",
    "    \"\"\"\n",
    "    wavelength = []\n",
    "    reflectivity = []\n",
    "    for line in lines:\n",
    "        if line.startswith(\"#\") or line.strip() == \"\":\n",
    "            continue\n",
    "        parts = re.split(r\"\\s+\", line)\n",
    "        parts = [part for part in parts if part]  # 删除空字符串\n",
    "        w=float(parts[0].strip())\n",
    "        r=float(parts[1].strip())\n",
    "        wavelength.append(w)\n",
    "        reflectivity.append(r)\n",
    "    return wavelength, reflectivity\n"
   ],
   "metadata": {
    "collapsed": false,
    "ExecuteTime": {
     "end_time": "2024-04-18T13:16:03.593345Z",
     "start_time": "2024-04-18T13:16:03.587061Z"
    }
   },
   "id": "313480785e08eb39",
   "execution_count": 4
  },
  {
   "cell_type": "code",
   "outputs": [
    {
     "data": {
      "text/plain": "<Figure size 640x480 with 1 Axes>",
      "image/png": "[encoded data removed]"
     },
     "metadata": {},
     "output_type": "display_data"
    }
   ],
   "source": [
    "def showOneSpectra(dir,filename):\n",
    "    \"\"\"\n",
    "    显示单个光谱\n",
    "    :param dir: 目录\n",
    "    :param filename: 文件名 \n",
    "    :return: None\n",
    "    \"\"\"\n",
    "    # 拼接文件路径\n",
    "    filepath=os.path.join(dir,filename)\n",
    "    # 读取文件中的数据\n",
    "    with open(filepath, \"r\") as file:\n",
    "        lines = file.readlines()\n",
    "    # 从文件名截取矿物名称\n",
    "    mine_name = filename.split(\".\")[0]\n",
    "    # 解析数据，获取波长和反射率\n",
    "    wavelength, reflectivity = get_spectra_vector(lines)\n",
    "\n",
    "    # 绘制数据\n",
    "    plt.plot(wavelength, reflectivity,label=mine_name)\n",
    "    # plt.legend()    # 添加图例\n",
    "    # 设置坐标轴范围并显示图表\n",
    "    plt.xlim([1300, 2500])\n",
    "    plt.ylim([0, 100])\n",
    "    plt.show()\n",
    "\n",
    "showOneSpectra(directories[0],\"AZURITE.txt\")"
   ],
   "metadata": {
    "collapsed": false,
    "ExecuteTime": {
     "end_time": "2024-04-18T13:16:03.785826Z",
     "start_time": "2024-04-18T13:16:03.615354Z"
    }
   },
   "id": "a0b6e5e2e28614c1",
   "execution_count": 5
  },
  {
   "cell_type": "code",
   "outputs": [],
   "source": [
    "def showAllSpectra(dir):\n",
    "    \"\"\"\n",
    "    在同一图表中显示一个目录下的所有光谱。\n",
    "    @param dir: 数据目录\n",
    "    @return: None\n",
    "    \"\"\"\n",
    "    # 获取目录下的所有文件\n",
    "    files = os.listdir(dir)\n",
    "    # 对每个文件执行操作\n",
    "    for filename in files:\n",
    "        # 忽略非.txt文件\n",
    "        if not filename.endswith(\".txt\"):\n",
    "            continue\n",
    "        with open(os.path.join(dir, filename), \"r\", encoding=\"utf-8\") as filepath:\n",
    "            lines = filepath.readlines()\n",
    "        mine_name=filename.split(\".\")[0]\n",
    "        mine_names =[]\n",
    "        mine_names.append(mine_name)\n",
    "        # 解析数据\n",
    "        wavelength, reflectivity = get_spectra_vector(lines)\n",
    "        # 绘制数据\n",
    "        plt.plot(wavelength, reflectivity,label=mine_names[0])\n",
    "    \n",
    "    # 添加图例\n",
    "    # plt.legend()\n",
    "    # 设置坐标轴范围并显示图表\n",
    "    plt.xlim([1300, 2500])\n",
    "    plt.ylim([0, 100])\n",
    "    # 显示图表\n",
    "    plt.show()\n",
    "\n",
    "showAllSpectra(directories[0])"
   ],
   "metadata": {
    "collapsed": false
   },
   "id": "e69101f3829fae70"
  }
 ],
 "metadata": {
  "kernelspec": {
   "display_name": "Python 3",
   "language": "python",
   "name": "python3"
  },
  "language_info": {
   "codemirror_mode": {
    "name": "ipython",
    "version": 2
   },
   "file_extension": ".py",
   "mimetype": "text/x-python",
   "name": "python",
   "nbconvert_exporter": "python",
   "pygments_lexer": "ipython2",
   "version": "2.7.6"
  }
 },
 "nbformat": 4,
 "nbformat_minor": 5
}
